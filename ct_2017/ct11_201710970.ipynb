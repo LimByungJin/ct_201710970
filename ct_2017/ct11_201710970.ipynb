﻿pip install Pillow
from PIL import Image
m=Image.open("C:\\Users\\Administrator\\1.jpg")
m.show()
m.save("C:\Users\Administrator\\1.gif")